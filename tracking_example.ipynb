{
 "cells": [
  {
   "attachments": {},
   "cell_type": "markdown",
   "metadata": {},
   "source": [
    "# Tracking Example Tests"
   ]
  },
  {
   "cell_type": "code",
   "execution_count": 8,
   "metadata": {},
   "outputs": [],
   "source": [
    "from lib.tttracking.trackingTT import TTtracker"
   ]
  },
  {
   "cell_type": "code",
   "execution_count": 9,
   "metadata": {},
   "outputs": [
    {
     "ename": "OperationalError",
     "evalue": "unable to open database file",
     "output_type": "error",
     "traceback": [
      "\u001b[1;31m---------------------------------------------------------------------------\u001b[0m",
      "\u001b[1;31mOperationalError\u001b[0m                          Traceback (most recent call last)",
      "Cell \u001b[1;32mIn[9], line 1\u001b[0m\n\u001b[1;32m----> 1\u001b[0m myTT \u001b[39m=\u001b[39m TTtracker(\u001b[39m\"\u001b[39;49m\u001b[39mtest\u001b[39;49m\u001b[39m\"\u001b[39;49m)\n\u001b[0;32m      2\u001b[0m myTT\u001b[39m.\u001b[39mrun()\n",
      "File \u001b[1;32mc:\\Users\\pedro\\Github_repos\\TTtracking\\lib\\tttracking\\trackingTT.py:12\u001b[0m, in \u001b[0;36mTTtracker.__init__\u001b[1;34m(self, name)\u001b[0m\n\u001b[0;32m      9\u001b[0m \u001b[39mself\u001b[39m\u001b[39m.\u001b[39mcondition \u001b[39m=\u001b[39m \u001b[39mTrue\u001b[39;00m\n\u001b[0;32m     11\u001b[0m \u001b[39m# ----- Database Management -----\u001b[39;00m\n\u001b[1;32m---> 12\u001b[0m \u001b[39mself\u001b[39m\u001b[39m.\u001b[39mtask_interfaceDB \u001b[39m=\u001b[39m interfaceDB(\u001b[39m\"\u001b[39;49m\u001b[39mtask\u001b[39;49m\u001b[39m\"\u001b[39;49m)\n\u001b[0;32m     15\u001b[0m \u001b[39m# ----- COMMANDS DICTIONARY -----\u001b[39;00m\n\u001b[0;32m     16\u001b[0m \u001b[39mself\u001b[39m\u001b[39m.\u001b[39mcommands_store \u001b[39m=\u001b[39m {\n\u001b[0;32m     17\u001b[0m     \u001b[39m\"\u001b[39m\u001b[39madd\u001b[39m\u001b[39m\"\u001b[39m:  \u001b[39mself\u001b[39m\u001b[39m.\u001b[39mcommmand_create_task,\n\u001b[0;32m     18\u001b[0m     \u001b[39m\"\u001b[39m\u001b[39mshow\u001b[39m\u001b[39m\"\u001b[39m: \u001b[39mself\u001b[39m\u001b[39m.\u001b[39mcommand_show_task\n\u001b[0;32m     19\u001b[0m }\n",
      "File \u001b[1;32mc:\\Users\\pedro\\Github_repos\\TTtracking\\lib\\tttracking\\interfaceDB.py:13\u001b[0m, in \u001b[0;36minterfaceDB.__init__\u001b[1;34m(self, name)\u001b[0m\n\u001b[0;32m     11\u001b[0m \u001b[39m#--- Table creation\u001b[39;00m\n\u001b[0;32m     12\u001b[0m \u001b[39mif\u001b[39;00m name \u001b[39m==\u001b[39m \u001b[39m\"\u001b[39m\u001b[39mtask\u001b[39m\u001b[39m\"\u001b[39m:\n\u001b[1;32m---> 13\u001b[0m     \u001b[39mself\u001b[39;49m\u001b[39m.\u001b[39;49mcreate_task_table()\n",
      "File \u001b[1;32mc:\\Users\\pedro\\Github_repos\\TTtracking\\lib\\tttracking\\interfaceDB.py:17\u001b[0m, in \u001b[0;36minterfaceDB.create_task_table\u001b[1;34m(self)\u001b[0m\n\u001b[0;32m     16\u001b[0m \u001b[39mdef\u001b[39;00m \u001b[39mcreate_task_table\u001b[39m(\u001b[39mself\u001b[39m):\n\u001b[1;32m---> 17\u001b[0m     \u001b[39mwith\u001b[39;00m sqlite3\u001b[39m.\u001b[39;49mconnect(\u001b[39mself\u001b[39;49m\u001b[39m.\u001b[39;49mnamedb) \u001b[39mas\u001b[39;00m db:\n\u001b[0;32m     18\u001b[0m         db\u001b[39m.\u001b[39mexecute(\n\u001b[0;32m     19\u001b[0m             \u001b[39mf\u001b[39m\u001b[39m\"\"\"\u001b[39m\n\u001b[0;32m     20\u001b[0m \u001b[39m            CREATE TABLE IF NOT EXIST task_table (\u001b[39m\n\u001b[1;32m   (...)\u001b[0m\n\u001b[0;32m     30\u001b[0m \u001b[39m            \u001b[39m\u001b[39m\"\"\"\u001b[39m\n\u001b[0;32m     31\u001b[0m         )\n",
      "\u001b[1;31mOperationalError\u001b[0m: unable to open database file"
     ]
    }
   ],
   "source": [
    "myTT = TTtracker(\"test\")\n",
    "myTT.run()"
   ]
  }
 ],
 "metadata": {
  "kernelspec": {
   "display_name": "trackinTTenv-BxrvHFwp",
   "language": "python",
   "name": "python3"
  },
  "language_info": {
   "codemirror_mode": {
    "name": "ipython",
    "version": 3
   },
   "file_extension": ".py",
   "mimetype": "text/x-python",
   "name": "python",
   "nbconvert_exporter": "python",
   "pygments_lexer": "ipython3",
   "version": "3.11.2"
  },
  "orig_nbformat": 4
 },
 "nbformat": 4,
 "nbformat_minor": 2
}
